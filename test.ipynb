{
 "cells": [
  {
   "cell_type": "code",
   "execution_count": 1,
   "metadata": {},
   "outputs": [],
   "source": [
    "%reload_ext autoreload\n",
    "%autoreload 2\n",
    "%matplotlib inline"
   ]
  },
  {
   "cell_type": "code",
   "execution_count": 12,
   "metadata": {},
   "outputs": [],
   "source": [
    "import praw\n",
    "import re"
   ]
  },
  {
   "cell_type": "code",
   "execution_count": 3,
   "metadata": {},
   "outputs": [],
   "source": [
    "credential_file = \"credentials.key\"\n",
    "target_subreddit = \"lakeporn\""
   ]
  },
  {
   "cell_type": "code",
   "execution_count": 4,
   "metadata": {},
   "outputs": [],
   "source": [
    "try:\n",
    "    with open(credential_file, 'r') as f:\n",
    "        creds = f.read().split('\\n')\n",
    "    personal = creds[0]\n",
    "    secret = creds[1]\n",
    "    username = creds[2]\n",
    "    password = creds[3]\n",
    "except IOError as e:\n",
    "    print(\"You didn't create a credential file! Please see sample_credentials.key\")\n",
    "    print(\"Then go to http://www.storybench.org/how-to-scrape-reddit-with-python/\")\n",
    "    print(\"And register a new app named fastai_reddit in your reddit account.\")\n",
    "    print(\"And insert the values into sample_credentials.key and save it as {}.\".format(credential_file))\n",
    "    raise(e)"
   ]
  },
  {
   "cell_type": "code",
   "execution_count": 5,
   "metadata": {},
   "outputs": [],
   "source": [
    "reddit = praw.Reddit(client_id=personal, client_secret=secret, user_agent='fastai_reddit', username=username, \\\n",
    "                     password=password)\n",
    "subreddit = reddit.subreddit(target_subreddit)"
   ]
  },
  {
   "cell_type": "code",
   "execution_count": 6,
   "metadata": {},
   "outputs": [
    {
     "name": "stdout",
     "output_type": "stream",
     "text": [
      "Lake above an ocean, faroe islands [640 × 960]\n"
     ]
    }
   ],
   "source": [
    "# Test that our Reddit connection works\n",
    "test = list(subreddit.top(limit=10))[0]\n",
    "print(test.title)"
   ]
  },
  {
   "cell_type": "code",
   "execution_count": 7,
   "metadata": {},
   "outputs": [
    {
     "data": {
      "text/plain": [
       "'http://imgur.com/W6nEeQX'"
      ]
     },
     "execution_count": 7,
     "metadata": {},
     "output_type": "execute_result"
    }
   ],
   "source": [
    "test.url"
   ]
  },
  {
   "cell_type": "code",
   "execution_count": 8,
   "metadata": {},
   "outputs": [
    {
     "data": {
      "text/plain": [
       "'https://external-preview.redd.it/R1PK5v9ySc1gyVGvWk69oi7FZEGc6L7YGnP-PyX13VU.jpg?auto=webp&s=a18f60487fb1b2a8eaf90707840b6c1aff07fe33'"
      ]
     },
     "execution_count": 8,
     "metadata": {},
     "output_type": "execute_result"
    }
   ],
   "source": [
    "test.preview['images'][0]['source']['url']"
   ]
  },
  {
   "cell_type": "code",
   "execution_count": 8,
   "metadata": {},
   "outputs": [],
   "source": [
    "test = list(subreddit.new(limit=1000))"
   ]
  },
  {
   "cell_type": "code",
   "execution_count": 9,
   "metadata": {},
   "outputs": [],
   "source": [
    "test = list(set(test))"
   ]
  },
  {
   "cell_type": "code",
   "execution_count": 10,
   "metadata": {},
   "outputs": [],
   "source": [
    "test = test[0]"
   ]
  },
  {
   "cell_type": "code",
   "execution_count": 11,
   "metadata": {},
   "outputs": [
    {
     "data": {
      "text/plain": [
       "'https://external-preview.redd.it/Ukc7vJL_jEJQhK_Oi-0zlmt0USVJy4wJgrVnP_V7rlk.jpg?auto=webp&s=a96acd371898e5bf3dae61040e20664bdcdb86de'"
      ]
     },
     "execution_count": 11,
     "metadata": {},
     "output_type": "execute_result"
    }
   ],
   "source": [
    "test.preview['images'][0]['source']['url']"
   ]
  },
  {
   "cell_type": "code",
   "execution_count": 13,
   "metadata": {},
   "outputs": [
    {
     "data": {
      "text/plain": [
       "'https://external-preview.redd.it/Ukc7vJL_jEJQhK_Oi-0zlmt0USVJy4wJgrVnP_V7rlk.jpg'"
      ]
     },
     "execution_count": 13,
     "metadata": {},
     "output_type": "execute_result"
    }
   ],
   "source": [
    "re.sub(\"\\?.*\",\"\",test.preview['images'][0]['source']['url'])"
   ]
  },
  {
   "cell_type": "code",
   "execution_count": 9,
   "metadata": {},
   "outputs": [
    {
     "data": {
      "text/plain": [
       "{'source': {'url': 'https://external-preview.redd.it/R1PK5v9ySc1gyVGvWk69oi7FZEGc6L7YGnP-PyX13VU.jpg?auto=webp&s=a18f60487fb1b2a8eaf90707840b6c1aff07fe33',\n",
       "  'width': 640,\n",
       "  'height': 960},\n",
       " 'resolutions': [{'url': 'https://external-preview.redd.it/R1PK5v9ySc1gyVGvWk69oi7FZEGc6L7YGnP-PyX13VU.jpg?width=108&crop=smart&auto=webp&s=f1c2e056f08fdbaf5619b8a5f29b999f11a2240e',\n",
       "   'width': 108,\n",
       "   'height': 162},\n",
       "  {'url': 'https://external-preview.redd.it/R1PK5v9ySc1gyVGvWk69oi7FZEGc6L7YGnP-PyX13VU.jpg?width=216&crop=smart&auto=webp&s=ba7581c3cfde7417e80ba956d6cbf6853a9f0962',\n",
       "   'width': 216,\n",
       "   'height': 324},\n",
       "  {'url': 'https://external-preview.redd.it/R1PK5v9ySc1gyVGvWk69oi7FZEGc6L7YGnP-PyX13VU.jpg?width=320&crop=smart&auto=webp&s=94a5fe5e403ebcbfbef1135009011d86c91b6d91',\n",
       "   'width': 320,\n",
       "   'height': 480},\n",
       "  {'url': 'https://external-preview.redd.it/R1PK5v9ySc1gyVGvWk69oi7FZEGc6L7YGnP-PyX13VU.jpg?width=640&crop=smart&auto=webp&s=a35d3b6ce8b1a6d5a75aa7262a4a83d22bff5e06',\n",
       "   'width': 640,\n",
       "   'height': 960}],\n",
       " 'variants': {},\n",
       " 'id': 'Cf7ZvIZT480A79wUnRXoWLI0wGFTsqfwHqi0pFNdsEY'}"
      ]
     },
     "execution_count": 9,
     "metadata": {},
     "output_type": "execute_result"
    }
   ],
   "source": [
    "test.preview['images'][0]"
   ]
  },
  {
   "cell_type": "code",
   "execution_count": 13,
   "metadata": {},
   "outputs": [],
   "source": [
    "t0 = test.comments[0]"
   ]
  },
  {
   "cell_type": "code",
   "execution_count": 15,
   "metadata": {},
   "outputs": [],
   "source": [
    "s0 = t0.submission"
   ]
  },
  {
   "cell_type": "code",
   "execution_count": null,
   "metadata": {},
   "outputs": [],
   "source": [
    "s0."
   ]
  }
 ],
 "metadata": {
  "kernelspec": {
   "display_name": "Python 3",
   "language": "python",
   "name": "python3"
  },
  "language_info": {
   "codemirror_mode": {
    "name": "ipython",
    "version": 3
   },
   "file_extension": ".py",
   "mimetype": "text/x-python",
   "name": "python",
   "nbconvert_exporter": "python",
   "pygments_lexer": "ipython3",
   "version": "3.6.8"
  }
 },
 "nbformat": 4,
 "nbformat_minor": 2
}
