{
 "cells": [
  {
   "cell_type": "code",
   "execution_count": 1,
   "metadata": {},
   "outputs": [],
   "source": [
    "%reload_ext autoreload\n",
    "%autoreload 2\n",
    "%matplotlib inline"
   ]
  },
  {
   "cell_type": "code",
   "execution_count": 12,
   "metadata": {},
   "outputs": [],
   "source": [
    "import praw\n",
    "import re"
   ]
  },
  {
   "cell_type": "code",
   "execution_count": 3,
   "metadata": {},
   "outputs": [],
   "source": [
    "credential_file = \"credentials.key\"\n",
    "target_subreddit = \"lakeporn\""
   ]
  },
  {
   "cell_type": "code",
   "execution_count": 4,
   "metadata": {},
   "outputs": [],
   "source": [
    "try:\n",
    "    with open(credential_file, 'r') as f:\n",
    "        creds = f.read().split('\\n')\n",
    "    personal = creds[0]\n",
    "    secret = creds[1]\n",
    "    username = creds[2]\n",
    "    password = creds[3]\n",
    "except IOError as e:\n",
    "    print(\"You didn't create a credential file! Please see sample_credentials.key\")\n",
    "    print(\"Then go to http://www.storybench.org/how-to-scrape-reddit-with-python/\")\n",
    "    print(\"And register a new app named fastai_reddit in your reddit account.\")\n",
    "    print(\"And insert the values into sample_credentials.key and save it as {}.\".format(credential_file))\n",
    "    raise(e)"
   ]
  },
  {
   "cell_type": "code",
   "execution_count": 5,
   "metadata": {},
   "outputs": [],
   "source": [
    "reddit = praw.Reddit(client_id=personal, client_secret=secret, user_agent='fastai_reddit', username=username, \\\n",
    "                     password=password)\n",
    "subreddit = reddit.subreddit(target_subreddit)"
   ]
  },
  {
   "cell_type": "code",
   "execution_count": 6,
   "metadata": {},
   "outputs": [
    {
     "name": "stdout",
     "output_type": "stream",
     "text": [
      "Lake above an ocean, faroe islands [640 × 960]\n"
     ]
    }
   ],
   "source": [
    "# Test that our Reddit connection works\n",
    "test = list(subreddit.top(limit=10))[0]\n",
    "print(test.title)"
   ]
  },
  {
   "cell_type": "code",
   "execution_count": 7,
   "metadata": {},
   "outputs": [
    {
     "data": {
      "text/plain": [
       "'http://imgur.com/W6nEeQX'"
      ]
     },
     "execution_count": 7,
     "metadata": {},
     "output_type": "execute_result"
    }
   ],
   "source": [
    "test.url"
   ]
  },
  {
   "cell_type": "code",
   "execution_count": 8,
   "metadata": {},
   "outputs": [
    {
     "data": {
      "text/plain": [
       "'https://external-preview.redd.it/R1PK5v9ySc1gyVGvWk69oi7FZEGc6L7YGnP-PyX13VU.jpg?auto=webp&s=a18f60487fb1b2a8eaf90707840b6c1aff07fe33'"
      ]
     },
     "execution_count": 8,
     "metadata": {},
     "output_type": "execute_result"
    }
   ],
   "source": [
    "test.preview['images'][0]['source']['url']"
   ]
  },
  {
   "cell_type": "code",
   "execution_count": 8,
   "metadata": {},
   "outputs": [],
   "source": [
    "test = list(subreddit.new(limit=1000))"
   ]
  },
  {
   "cell_type": "code",
   "execution_count": 9,
   "metadata": {},
   "outputs": [],
   "source": [
    "test = list(set(test))"
   ]
  },
  {
   "cell_type": "code",
   "execution_count": 10,
   "metadata": {},
   "outputs": [],
   "source": [
    "test = test[0]"
   ]
  },
  {
   "cell_type": "code",
   "execution_count": 11,
   "metadata": {},
   "outputs": [
    {
     "data": {
      "text/plain": [
       "'https://external-preview.redd.it/Ukc7vJL_jEJQhK_Oi-0zlmt0USVJy4wJgrVnP_V7rlk.jpg?auto=webp&s=a96acd371898e5bf3dae61040e20664bdcdb86de'"
      ]
     },
     "execution_count": 11,
     "metadata": {},
     "output_type": "execute_result"
    }
   ],
   "source": [
    "test.preview['images'][0]['source']['url']"
   ]
  },
  {
   "cell_type": "code",
   "execution_count": 13,
   "metadata": {},
   "outputs": [
    {
     "data": {
      "text/plain": [
       "'https://external-preview.redd.it/Ukc7vJL_jEJQhK_Oi-0zlmt0USVJy4wJgrVnP_V7rlk.jpg'"
      ]
     },
     "execution_count": 13,
     "metadata": {},
     "output_type": "execute_result"
    }
   ],
   "source": [
    "re.sub(\"\\?.*\",\"\",test.preview['images'][0]['source']['url'])"
   ]
  },
  {
   "cell_type": "code",
   "execution_count": 9,
   "metadata": {},
   "outputs": [
    {
     "data": {
      "text/plain": [
       "{'source': {'url': 'https://external-preview.redd.it/R1PK5v9ySc1gyVGvWk69oi7FZEGc6L7YGnP-PyX13VU.jpg?auto=webp&s=a18f60487fb1b2a8eaf90707840b6c1aff07fe33',\n",
       "  'width': 640,\n",
       "  'height': 960},\n",
       " 'resolutions': [{'url': 'https://external-preview.redd.it/R1PK5v9ySc1gyVGvWk69oi7FZEGc6L7YGnP-PyX13VU.jpg?width=108&crop=smart&auto=webp&s=f1c2e056f08fdbaf5619b8a5f29b999f11a2240e',\n",
       "   'width': 108,\n",
       "   'height': 162},\n",
       "  {'url': 'https://external-preview.redd.it/R1PK5v9ySc1gyVGvWk69oi7FZEGc6L7YGnP-PyX13VU.jpg?width=216&crop=smart&auto=webp&s=ba7581c3cfde7417e80ba956d6cbf6853a9f0962',\n",
       "   'width': 216,\n",
       "   'height': 324},\n",
       "  {'url': 'https://external-preview.redd.it/R1PK5v9ySc1gyVGvWk69oi7FZEGc6L7YGnP-PyX13VU.jpg?width=320&crop=smart&auto=webp&s=94a5fe5e403ebcbfbef1135009011d86c91b6d91',\n",
       "   'width': 320,\n",
       "   'height': 480},\n",
       "  {'url': 'https://external-preview.redd.it/R1PK5v9ySc1gyVGvWk69oi7FZEGc6L7YGnP-PyX13VU.jpg?width=640&crop=smart&auto=webp&s=a35d3b6ce8b1a6d5a75aa7262a4a83d22bff5e06',\n",
       "   'width': 640,\n",
       "   'height': 960}],\n",
       " 'variants': {},\n",
       " 'id': 'Cf7ZvIZT480A79wUnRXoWLI0wGFTsqfwHqi0pFNdsEY'}"
      ]
     },
     "execution_count": 9,
     "metadata": {},
     "output_type": "execute_result"
    }
   ],
   "source": [
    "test.preview['images'][0]"
   ]
  },
  {
   "cell_type": "code",
   "execution_count": 13,
   "metadata": {},
   "outputs": [],
   "source": [
    "t0 = test.comments[0]"
   ]
  },
  {
   "cell_type": "code",
   "execution_count": 15,
   "metadata": {},
   "outputs": [],
   "source": [
    "s0 = t0.submission"
   ]
  },
  {
   "cell_type": "code",
   "execution_count": 14,
   "metadata": {},
   "outputs": [],
   "source": [
    "import getcsv"
   ]
  },
  {
   "cell_type": "code",
   "execution_count": 44,
   "metadata": {},
   "outputs": [
    {
     "data": {
      "text/plain": [
       "<module 'getcsv' from 'D:\\\\JJ\\\\python\\\\Reddit_Image_Grabber\\\\getcsv.py'>"
      ]
     },
     "execution_count": 44,
     "metadata": {},
     "output_type": "execute_result"
    }
   ],
   "source": [
    "from imp import reload\n",
    "reload(getcsv)"
   ]
  },
  {
   "cell_type": "code",
   "execution_count": 45,
   "metadata": {},
   "outputs": [],
   "source": [
    "posts = getcsv.get_posts(target_subreddit)"
   ]
  },
  {
   "cell_type": "code",
   "execution_count": 46,
   "metadata": {},
   "outputs": [
    {
     "data": {
      "text/plain": [
       "633"
      ]
     },
     "execution_count": 46,
     "metadata": {},
     "output_type": "execute_result"
    }
   ],
   "source": [
    "len(posts)"
   ]
  },
  {
   "cell_type": "code",
   "execution_count": 47,
   "metadata": {},
   "outputs": [],
   "source": [
    "df = getcsv.get_df(posts)"
   ]
  },
  {
   "cell_type": "code",
   "execution_count": 48,
   "metadata": {},
   "outputs": [
    {
     "data": {
      "text/plain": [
       "616"
      ]
     },
     "execution_count": 48,
     "metadata": {},
     "output_type": "execute_result"
    }
   ],
   "source": [
    "len(df)"
   ]
  },
  {
   "cell_type": "code",
   "execution_count": 49,
   "metadata": {},
   "outputs": [
    {
     "data": {
      "text/html": [
       "<div>\n",
       "<style scoped>\n",
       "    .dataframe tbody tr th:only-of-type {\n",
       "        vertical-align: middle;\n",
       "    }\n",
       "\n",
       "    .dataframe tbody tr th {\n",
       "        vertical-align: top;\n",
       "    }\n",
       "\n",
       "    .dataframe thead th {\n",
       "        text-align: right;\n",
       "    }\n",
       "</style>\n",
       "<table border=\"1\" class=\"dataframe\">\n",
       "  <thead>\n",
       "    <tr style=\"text-align: right;\">\n",
       "      <th></th>\n",
       "      <th>url</th>\n",
       "      <th>imgurl</th>\n",
       "    </tr>\n",
       "  </thead>\n",
       "  <tbody>\n",
       "    <tr>\n",
       "      <th>0</th>\n",
       "      <td>https://external-preview.redd.it/Ukc7vJL_jEJQh...</td>\n",
       "      <td>https://reddit.com/r/lakeporn/comments/1ju92z/...</td>\n",
       "    </tr>\n",
       "    <tr>\n",
       "      <th>1</th>\n",
       "      <td>https://external-preview.redd.it/GivcF7mpvu3Jm...</td>\n",
       "      <td>https://reddit.com/r/lakeporn/comments/3e4q2f/...</td>\n",
       "    </tr>\n",
       "    <tr>\n",
       "      <th>2</th>\n",
       "      <td>https://external-preview.redd.it/MDDbEzJYkTMyZ...</td>\n",
       "      <td>https://reddit.com/r/lakeporn/comments/2kcpws/...</td>\n",
       "    </tr>\n",
       "    <tr>\n",
       "      <th>3</th>\n",
       "      <td>https://preview.redd.it/77yrgva46k0z.jpg?auto=...</td>\n",
       "      <td>https://reddit.com/r/lakeporn/comments/6e4y1b/...</td>\n",
       "    </tr>\n",
       "    <tr>\n",
       "      <th>4</th>\n",
       "      <td>https://external-preview.redd.it/IJRnjpxVI2nCn...</td>\n",
       "      <td>https://reddit.com/r/lakeporn/comments/1kvlkw/...</td>\n",
       "    </tr>\n",
       "  </tbody>\n",
       "</table>\n",
       "</div>"
      ],
      "text/plain": [
       "                                                 url  \\\n",
       "0  https://external-preview.redd.it/Ukc7vJL_jEJQh...   \n",
       "1  https://external-preview.redd.it/GivcF7mpvu3Jm...   \n",
       "2  https://external-preview.redd.it/MDDbEzJYkTMyZ...   \n",
       "3  https://preview.redd.it/77yrgva46k0z.jpg?auto=...   \n",
       "4  https://external-preview.redd.it/IJRnjpxVI2nCn...   \n",
       "\n",
       "                                              imgurl  \n",
       "0  https://reddit.com/r/lakeporn/comments/1ju92z/...  \n",
       "1  https://reddit.com/r/lakeporn/comments/3e4q2f/...  \n",
       "2  https://reddit.com/r/lakeporn/comments/2kcpws/...  \n",
       "3  https://reddit.com/r/lakeporn/comments/6e4y1b/...  \n",
       "4  https://reddit.com/r/lakeporn/comments/1kvlkw/...  "
      ]
     },
     "execution_count": 49,
     "metadata": {},
     "output_type": "execute_result"
    }
   ],
   "source": [
    "df.head()"
   ]
  },
  {
   "cell_type": "code",
   "execution_count": 29,
   "metadata": {},
   "outputs": [
    {
     "data": {
      "text/plain": [
       "'http://i.imgur.com/HwfbHLE.jpg'"
      ]
     },
     "execution_count": 29,
     "metadata": {},
     "output_type": "execute_result"
    }
   ],
   "source": [
    "test.url"
   ]
  },
  {
   "cell_type": "code",
   "execution_count": 34,
   "metadata": {},
   "outputs": [],
   "source": [
    "c = test.comments"
   ]
  },
  {
   "cell_type": "code",
   "execution_count": 38,
   "metadata": {},
   "outputs": [
    {
     "data": {
      "text/plain": [
       "'/r/lakeporn/comments/1ju92z/vorderer_gosausee_austria_1920x1080/'"
      ]
     },
     "execution_count": 38,
     "metadata": {},
     "output_type": "execute_result"
    }
   ],
   "source": [
    "test.permalink"
   ]
  },
  {
   "cell_type": "code",
   "execution_count": null,
   "metadata": {},
   "outputs": [],
   "source": []
  }
 ],
 "metadata": {
  "kernelspec": {
   "display_name": "Python 3",
   "language": "python",
   "name": "python3"
  },
  "language_info": {
   "codemirror_mode": {
    "name": "ipython",
    "version": 3
   },
   "file_extension": ".py",
   "mimetype": "text/x-python",
   "name": "python",
   "nbconvert_exporter": "python",
   "pygments_lexer": "ipython3",
   "version": "3.6.8"
  }
 },
 "nbformat": 4,
 "nbformat_minor": 2
}
